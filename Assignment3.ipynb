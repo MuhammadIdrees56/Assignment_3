{
 "cells": [
  {
   "cell_type": "markdown",
   "id": "2c540ac9-6789-459f-b932-a3f2fe66741d",
   "metadata": {},
   "source": [
    "***Bismillah***"
   ]
  },
  {
   "cell_type": "code",
   "execution_count": 13,
   "id": "c3b5900a-9798-4e05-a6a9-075863e09aae",
   "metadata": {},
   "outputs": [
    {
     "name": "stdout",
     "output_type": "stream",
     "text": [
      "Your credit score is not enough.\n"
     ]
    }
   ],
   "source": [
    "# Q1. Write program to check a person’s eligibility for a loan based on age, credit score, and income. This time, the\n",
    "# eligibility criteria will be:\n",
    "\n",
    "# The person must be 18 years or older. The person must have a credit score of 650 or higher. The person must have\n",
    "# an annual income of at least 30000 dollars If the person has a credit score of 700 or higher, they may still be eligible\n",
    "# with an income of 25000 dollars or more.\n",
    "\n",
    "age = 18\n",
    "credit_score = 300\n",
    "\n",
    "annual_income = 30000\n",
    "\n",
    "if age >= 18:\n",
    "    if credit_score >= 650:\n",
    "        if credit_score >= 700:  \n",
    "            if annual_income >= 25000: \n",
    "                print(\"You're eligible for the loan based on age, credit score, and income.\")\n",
    "            else:\n",
    "                print(\"Your annual income is not enough for the loan.\")\n",
    "            if annual_income >= 30000:\n",
    "                print(\"You're eligible for the loan based on age, credit score, and income.\")\n",
    "            else:\n",
    "                print(\"Your annual income is not enough for the loan.\")\n",
    "    else:\n",
    "        print(\"Your credit score is not enough.\")\n",
    "else:\n",
    "    print(\"You are not eligible for the loan due to age.\")\n"
   ]
  },
  {
   "cell_type": "code",
   "execution_count": 21,
   "id": "3b9cbd73-7946-49dc-8081-c8c7857cca7a",
   "metadata": {},
   "outputs": [
    {
     "name": "stdin",
     "output_type": "stream",
     "text": [
      "please write your age 3\n",
      "apna experience btae sir 1\n"
     ]
    },
    {
     "name": "stdout",
     "output_type": "stream",
     "text": [
      "No need of your experience\n",
      "youre just starting\n"
     ]
    }
   ],
   "source": [
    "# Q2. Write a Python program that checks if a person is an adult (age ≥ 18).\n",
    "\n",
    "# Take the age as input.\n",
    "# If the person is underage (age &lt; 18), show message: &quot;You are underage&quot; and don&#39;t ask for experience.\n",
    "\n",
    "# If the person is an adult, take years of experience as input and print:\n",
    "# &quot;You have a lot of experience.&quot; (10+ years)\n",
    "# &quot;You have moderate experience.&quot; (5-9 years)\n",
    "# &quot;You are relatively new.&quot; (2-4 years)\n",
    "# &quot;You are just starting out.&quot; (less than 2 years)\n",
    "\n",
    "age_child =  int(input(\"please write your age\"))\n",
    "experience = int(input(\"apna experience btae sir\"))\n",
    "\n",
    "if age_child > 18:\n",
    "    print(\"You're under age\")\n",
    "else:\n",
    "    print(\"No need of your experience\")\n",
    "    \n",
    "if experience >= 10:\n",
    "    print(\" you have lot of exeprience\")\n",
    "elif experience >=5 and experience <=9:\n",
    "    print(\"you have moderate experience\")\n",
    "elif experience >= 2 and experience <= 4:\n",
    "    print(\"you are relatively new\")\n",
    "elif experience <= 2:\n",
    "    print(\"youre just starting\")\n",
    "else:\n",
    "     print(\" youre not eligible for job\")\n",
    "\n",
    "\n"
   ]
  },
  {
   "cell_type": "code",
   "execution_count": 2,
   "id": "c68645c1-f886-4de1-bbf2-481fb645e94e",
   "metadata": {},
   "outputs": [
    {
     "name": "stdin",
     "output_type": "stream",
     "text": [
      "check your available course physics\n"
     ]
    },
    {
     "name": "stdout",
     "output_type": "stream",
     "text": [
      "sorry next time\n"
     ]
    }
   ],
   "source": [
    "# Q9. Write a program to check if a user’s chosen subject is available in the list of offered subjects.\n",
    "# Instructions:\n",
    "# Given a list of subjects, ask the user to input a subject.\n",
    "# Display whether the subject is available or not.\n",
    "\n",
    "offer_subject = [\"english\", \"math\",\"urdu\",\"islamiath\",\"chemistry\"]\n",
    "subject_list = input(\"check your available course\")\n",
    "\n",
    "if subject_list in offer_subject:\n",
    "    print(\"this course is available\")\n",
    "else:\n",
    "    print(\"sorry next time\")"
   ]
  },
  {
   "cell_type": "code",
   "execution_count": null,
   "id": "43d57557-2772-48dd-83e4-0651e2eb02d1",
   "metadata": {},
   "outputs": [],
   "source": [
    "# 4 Write a Python program that asks the user to enter an email address. The program should check if the email\n",
    "# contains the characters @ and &quot;.&quot; (ignoring case). If either character is present, print &quot;Email format is valid.&quot;\n",
    "# Otherwise, print &quot;Invalid email format.&quot;\n",
    "email = input(\"write your email\")\n",
    "\n",
    "if \"@\" in email and \".\" in email:\n",
    "    print(\"email format is valid\")\n",
    "else:\n",
    "    print(\"email is invalid\")\n",
    "    \n"
   ]
  },
  {
   "cell_type": "code",
   "execution_count": 11,
   "id": "33198fd0-8c88-4835-852d-b640c8c937ba",
   "metadata": {},
   "outputs": [
    {
     "name": "stdin",
     "output_type": "stream",
     "text": [
      "please tell the book jumanji\n",
      "please tell the namr of author bush\n",
      "please tell the year 2008\n",
      "please tell the price 900\n"
     ]
    },
    {
     "name": "stdout",
     "output_type": "stream",
     "text": [
      "sorry sir\n"
     ]
    }
   ],
   "source": [
    "# Q8. Write a Python program to store and display a book&#39;s title, author, year of publication, and price using a tuple.\n",
    "\n",
    "# Instructions:\n",
    "# Create a tuple to store the book details.\n",
    "# Ask the user for the book&#39;s title, author, year, and price.\n",
    "# Display the stored book information.\n",
    "\n",
    "book_information = (\"jumanji\",\"bush\", 2008, 900)\n",
    "# book_information\n",
    "# book_information[0:3]\n",
    "book = input(\"please tell the book\")\n",
    "name = input(\"please tell the namr of author\")\n",
    "year = int(input(\"please tell the year\"))\n",
    "price = int(input(\"please tell the price\"))\n",
    "\n",
    "user_req = (\"book\", \"name\",\"year\",\"price\")\n",
    "\n",
    "if user_req  == book_information:\n",
    "    print(\"here is your book\")\n",
    "else: \n",
    "    print(\"sorry sir\")"
   ]
  },
  {
   "cell_type": "code",
   "execution_count": 35,
   "id": "ec7a2bd4-82c1-4c62-81d1-1a8d0d564fba",
   "metadata": {},
   "outputs": [
    {
     "name": "stdin",
     "output_type": "stream",
     "text": [
      "Please write the first number:  3\n"
     ]
    },
    {
     "name": "stdout",
     "output_type": "stream",
     "text": [
      "The number 3 is first found at index 8.\n"
     ]
    },
    {
     "name": "stdin",
     "output_type": "stream",
     "text": [
      "Please write the second number:  1\n"
     ]
    },
    {
     "name": "stdout",
     "output_type": "stream",
     "text": [
      "The number 1 appears 3 times .\n"
     ]
    }
   ],
   "source": [
    "# Q10. Write a Python program that performs the following tasks using tuple methods\n",
    "# Create a tuple with multiple integer values, including duplicates.\n",
    "# Prompt the user to input a number and find the index of its first occurrence in the tuple.\n",
    "# Ask the user for another number and count how many times it appears in the tuple.\n",
    "# Display appropriate messages based on the results\n",
    "\n",
    "numbers = (1, 2, 34, 56, 7, 8, 5, 1, 3, 2, 5, 6, 9, 1, 3)\n",
    "\n",
    "details = int(input(\"Please write the first number: \"))\n",
    "if details in numbers:\n",
    "    index_details = numbers.index(details)\n",
    "    print(f\"The number {details} is first found at index {index_details}.\")\n",
    "else:\n",
    "    print(f\"The number {details} is not in the tuple.\")\n",
    "\n",
    "again = int(input(\"Please write the second number: \"))\n",
    "count_again = numbers.count(again)\n",
    "print(f\"The number {again} appears {count_again} times .\")\n",
    "\n"
   ]
  },
  {
   "cell_type": "code",
   "execution_count": 3,
   "id": "5576349d-cea4-426c-8928-f05f781a4172",
   "metadata": {},
   "outputs": [
    {
     "data": {
      "text/plain": [
       "(11, 22.333, 'apple', [1, 2, 3], ('a', 'b'))"
      ]
     },
     "execution_count": 3,
     "metadata": {},
     "output_type": "execute_result"
    }
   ],
   "source": [
    "# Q5. Write a python program to know data type of each element stored in a tuple, append the data types in a list.\n",
    "# Show final output in a list as data types of tuple elements\n",
    "# x = (11,22.333,&#39;apple&#39;,[1,2,3],(&#39;a&#39;,&#39;b&#39;))\n",
    "\n",
    "x =  (11, 22.333, 'apple', [1, 2, 3], ('a', 'b'))\n",
    "x"
   ]
  },
  {
   "cell_type": "code",
   "execution_count": 5,
   "id": "cd936f3e-4d6c-4ab1-b148-883f79f5e32d",
   "metadata": {},
   "outputs": [
    {
     "name": "stdout",
     "output_type": "stream",
     "text": [
      "Element 11 is of type int\n",
      "Element 22.333 is of type float\n",
      "Element 'apple' is of type str\n",
      "Element [1, 2, 3] is of type list\n",
      "Element ('a', 'b') is of type tuple\n"
     ]
    }
   ],
   "source": [
    "\n",
    "\n",
    "x = (11, 22.333, 'apple', [1, 2, 3], ('a', 'b'))\n",
    "\n",
    "\n",
    "for element in x:\n",
    "    if type(element) == int:\n",
    "        print(f\"Element {element} is of type int\")\n",
    "    elif type(element) == float:\n",
    "        print(f\"Element {element} is of type float\")\n",
    "    elif type(element) == str:\n",
    "        print(f\"Element '{element}' is of type str\")\n",
    "    elif type(element) == list:\n",
    "        print(f\"Element {element} is of type list\")\n",
    "    elif type(element) == tuple:\n",
    "        print(f\"Element {element} is of type tuple\")\n",
    "    else:\n",
    "        print(f\"Element {element} has an unknown type\")"
   ]
  },
  {
   "cell_type": "code",
   "execution_count": 6,
   "id": "15637628-6586-4a60-92fe-ba071c297c29",
   "metadata": {},
   "outputs": [],
   "source": [
    "# Q6. Write a Python program that:\n",
    "# Checks if a given username exists in a list of active users.\n",
    "# Verifies if the user is the admin using identity operators.\n",
    "# Hints:\n",
    "# Use a list of tuples where each tuple contains a username and role\n",
    "# [(&quot;alice&quot;, &quot;admin&quot;),\n",
    "# (&quot;bob&quot;, &quot;user&quot;),\n",
    "# (&quot;charlie&quot;, &quot;moderator&quot;)]\n",
    "# Use the in operator to check if the username exists in the list.\n",
    "# Use the is operator to check if the user is the admin (admin is a specific reference, e.g., (&quot;alice&quot;, &quot;admin&quot;)).\n",
    "\n",
    "y =  [(\"alice\", \"admin\"),\n",
    " (\"bob\", \"user\"),\n",
    " (\"charlie\", \"moderator\")]"
   ]
  },
  {
   "cell_type": "code",
   "execution_count": 7,
   "id": "b0f7cd2c-8174-4086-a032-a035736a5cf4",
   "metadata": {},
   "outputs": [
    {
     "data": {
      "text/plain": [
       "[('alice', 'admin'), ('bob', 'user'), ('charlie', 'moderator')]"
      ]
     },
     "execution_count": 7,
     "metadata": {},
     "output_type": "execute_result"
    }
   ],
   "source": [
    "y"
   ]
  },
  {
   "cell_type": "code",
   "execution_count": null,
   "id": "2b8829be-7173-4fc6-a8e7-f43805a81f1b",
   "metadata": {},
   "outputs": [],
   "source": [
    "\n",
    "y =  [(\"alice\", \"admin\"),\n",
    " (\"bob\", \"user\"),\n",
    " (\"charlie\", \"moderator\")]\n",
    "\n",
    "user_info = input(\"please check active user\")\n",
    "\n",
    "if user_info in y:\n",
    "    if user_info == 'admin':\n",
    "       print(\"he is active\")\n",
    "else:\n",
    "    (\" he is not active user\")"
   ]
  },
  {
   "cell_type": "code",
   "execution_count": 3,
   "id": "d32a924f-e67b-4909-a3dc-02f6be51ab4a",
   "metadata": {},
   "outputs": [
    {
     "name": "stdout",
     "output_type": "stream",
     "text": [
      "not sibling or cousin\n"
     ]
    }
   ],
   "source": [
    "#Q7\n",
    "person1_data = ['father name', 'mother name', 'district', 'family number']\n",
    "person2_data = ['father name', 'mother name', 'district', 'family number']\n",
    "person3_data = ['uncle name', 'aunt name', 'city', 'family number']\n",
    "\n",
    "if person1_data is person2_data:\n",
    "    print(\"sibling\")\n",
    "elif person1_data is person3_data:\n",
    "     print(\"cousin\")\n",
    "else:\n",
    "    print(\"not sibling or cousin\")"
   ]
  },
  {
   "cell_type": "code",
   "execution_count": null,
   "id": "0a9a0bdf-842e-45db-88b7-008825c22a7f",
   "metadata": {},
   "outputs": [],
   "source": []
  },
  {
   "cell_type": "code",
   "execution_count": null,
   "id": "37ce9be9-6645-4775-83d4-9b3577c22748",
   "metadata": {},
   "outputs": [],
   "source": []
  },
  {
   "cell_type": "code",
   "execution_count": null,
   "id": "2cb8c3a6-083b-4b01-bb07-05b16d0f6d29",
   "metadata": {},
   "outputs": [],
   "source": []
  }
 ],
 "metadata": {
  "kernelspec": {
   "display_name": "Python 3 (ipykernel)",
   "language": "python",
   "name": "python3"
  },
  "language_info": {
   "codemirror_mode": {
    "name": "ipython",
    "version": 3
   },
   "file_extension": ".py",
   "mimetype": "text/x-python",
   "name": "python",
   "nbconvert_exporter": "python",
   "pygments_lexer": "ipython3",
   "version": "3.12.7"
  }
 },
 "nbformat": 4,
 "nbformat_minor": 5
}
